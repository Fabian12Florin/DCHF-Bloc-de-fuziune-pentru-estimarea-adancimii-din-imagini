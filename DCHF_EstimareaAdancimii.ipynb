{
  "cells": [
    {
      "cell_type": "markdown",
      "metadata": {
        "id": "5E0qD5gSGPFz"
      },
      "source": [
        "Instalarea pachetelor necesare"
      ]
    },
    {
      "cell_type": "code",
      "execution_count": null,
      "metadata": {
        "colab": {
          "base_uri": "https://localhost:8080/"
        },
        "id": "BcQL33kwFYQN",
        "outputId": "d9be9ef8-6b14-44b0-8920-8d8a60b6feac"
      },
      "outputs": [
        {
          "output_type": "stream",
          "name": "stdout",
          "text": [
            "Found existing installation: torch 2.6.0+cu124\n",
            "Uninstalling torch-2.6.0+cu124:\n",
            "  Successfully uninstalled torch-2.6.0+cu124\n",
            "Found existing installation: torchvision 0.21.0+cu124\n",
            "Uninstalling torchvision-0.21.0+cu124:\n",
            "  Successfully uninstalled torchvision-0.21.0+cu124\n",
            "Found existing installation: torchaudio 2.6.0+cu124\n",
            "Uninstalling torchaudio-2.6.0+cu124:\n",
            "  Successfully uninstalled torchaudio-2.6.0+cu124\n",
            "Found existing installation: timm 1.0.15\n",
            "Uninstalling timm-1.0.15:\n",
            "  Successfully uninstalled timm-1.0.15\n",
            "Found existing installation: numpy 2.0.2\n",
            "Uninstalling numpy-2.0.2:\n",
            "  Successfully uninstalled numpy-2.0.2\n",
            "Looking in indexes: https://download.pytorch.org/whl/cu117\n",
            "Collecting torch==2.0.1+cu117\n",
            "  Downloading https://download.pytorch.org/whl/cu117/torch-2.0.1%2Bcu117-cp311-cp311-linux_x86_64.whl (1843.9 MB)\n",
            "\u001b[2K     \u001b[91m━━━━━━━━━━━━━━━\u001b[0m\u001b[90m╺\u001b[0m\u001b[90m━━━━━━━━━━━━━━━━━━━━━━━━\u001b[0m \u001b[32m0.7/1.8 GB\u001b[0m \u001b[31m155.8 MB/s\u001b[0m eta \u001b[36m0:00:08\u001b[0m"
          ]
        }
      ],
      "source": [
        "!pip uninstall -y torch torchvision torchaudio timm numpy\n",
        "!pip install torch==2.0.1+cu117 torchvision==0.15.2+cu117 torchaudio==2.0.2+cu117 --index-url https://download.pytorch.org/whl/cu117\n",
        "!pip install numpy==1.24.4 timm==0.9.2\n",
        "!pip install mmcv-full -f https://download.openmmlab.com/mmcv/dist/cu117/torch2.0/index.html\n",
        "\n",
        "from mmcv.ops import DeformConv2d\n",
        "print(\"mmcv-full funcționează!\")"
      ]
    },
    {
      "cell_type": "markdown",
      "metadata": {
        "id": "YjnjlTQZGsXV"
      },
      "source": [
        "Descărcare proiect"
      ]
    },
    {
      "cell_type": "code",
      "execution_count": null,
      "metadata": {
        "id": "aa-vDQyFr91N"
      },
      "outputs": [],
      "source": [
        "import os\n",
        "\n",
        "# Navigare în directorul content\n",
        "os.chdir('/content')\n",
        "\n",
        "REPO_URL = \"https://github.com/Fabian12Florin/DCHF-Bloc-de-fuziune-pentru-estimarea-adancimii-din-imagini.git\"\n",
        "REPO_NAME = \"/DCHF-Bloc-de-fuziune-pentru-estimarea-adancimii-din-imagini\"\n",
        "\n",
        "!git clone {REPO_URL}\n",
        "\n",
        "os.chdir(f'/content/{REPO_NAME}')\n",
        "print(f\"Directorul curent: {os.getcwd()}\")"
      ]
    },
    {
      "cell_type": "code",
      "execution_count": null,
      "metadata": {
        "id": "Hq9H6OBAsLSw"
      },
      "outputs": [],
      "source": [
        "from google.colab import files\n",
        "import os\n",
        "\n",
        "print(\"Încarcă modelul:\")\n",
        "uploaded = files.upload()\n",
        "\n",
        "# Locația modelului\n",
        "model_dir = \"train_log/DCHF/model\"\n",
        "os.makedirs(model_dir, exist_ok=True)\n",
        "\n",
        "# Se mută modelul în directorul DCHF\n",
        "for filename in uploaded.keys():\n",
        "    if filename.endswith('.pth'):\n",
        "        model_path = f\"{model_dir}/{filename}\"\n",
        "        os.rename(filename, model_path)\n",
        "        file_size = os.path.getsize(model_path) / (1024*1024)\n",
        "        print(f\"Modelul a fost pus la: {model_path} ({file_size:.1f} MB)\")\n",
        "\n",
        "print(\"Model încărcat!\")\n"
      ]
    },
    {
      "cell_type": "code",
      "execution_count": null,
      "metadata": {
        "id": "RY00X2_gsOKX"
      },
      "outputs": [],
      "source": [
        "import os\n",
        "from IPython.display import Image, display\n",
        "\n",
        "# Directorul pentru output\n",
        "output_dir = \"/content/depth_predictions\"\n",
        "os.makedirs(output_dir, exist_ok=True)\n",
        "\n",
        "os.chdir('/content/DCHF-Bloc-de-fuziune-pentru-estimarea-adancimii-din-imagini')\n",
        "\n",
        "# Verifică directorul pentru imagini\n",
        "if os.path.exists(\"example_images\"):\n",
        "    images = [f for f in os.listdir(\"example_images\") if f.lower().endswith(('.png', '.jpg', '.jpeg'))]\n",
        "    print(f\"S-au găsit {len(images)} imagini:\")\n",
        "    for img in images:\n",
        "        print(f\"  - {img}\")\n",
        "\n",
        "    # Arată prima imagine\n",
        "    if images:\n",
        "        img_path = f\"example_images/{images[0]}\"\n",
        "        display(Image(img_path, width=400))\n",
        "        print(f\"Preview: {images[0]}\")\n",
        "else:\n",
        "    print(\"Directorul example_images nu a fost găsit.\")"
      ]
    },
    {
      "cell_type": "code",
      "execution_count": null,
      "metadata": {
        "id": "vxXzQqYQsPvu"
      },
      "outputs": [],
      "source": [
        "import time\n",
        "\n",
        "# Configurare\n",
        "image_path = \"example_images\"\n",
        "config_path = \"options/TiO-Depth/eval/tio_depth-swint-m_384_kitti.yaml\"\n",
        "model_path = \"/content/DCHF-Bloc-de-fuziune-pentru-estimarea-adancimii-din-imagini/train_log/DCHF/model/last_model.pth\"\n",
        "output_dir = \"/content/depth_predictions\"\n",
        "\n",
        "print(\"Au început predicțiile!\")\n",
        "print(f\"Imagini: {image_path}\")\n",
        "print(f\"Config: {config_path}\")\n",
        "print(f\"Model: {model_path}\")\n",
        "print(f\"Output: {output_dir}\")\n",
        "\n",
        "# Verifică prezența tuturor directoarelor\n",
        "for name, path in [(\"Config\", config_path), (\"Model\", model_path), (\"Imagini\", image_path)]:\n",
        "    if os.path.exists(path):\n",
        "        print(f\"✅ {name}: A fost găsit\")\n",
        "    else:\n",
        "        print(f\"❌ {name}: Nu a fost găsit - {path}\")\n",
        "\n",
        "print(\"\\n\" + \"=\"*60)\n",
        "start_time = time.time()\n",
        "\n",
        "# Rulează predicțiile\n",
        "cmd = f\"python predict.py --image_path {image_path} --exp_opts {config_path} --model_path {model_path} --out_dir {output_dir}\"\n",
        "print(f\"Executing: {cmd}\")\n",
        "\n",
        "result = os.system(cmd)\n",
        "duration = time.time() - start_time\n",
        "\n",
        "if result == 0:\n",
        "    print(f\"\\n SUCCESS! A durat {duration:.1f} secunde\")\n",
        "else:\n",
        "    print(f\"\\n⚠️ S-a terminat cu warning în {duration:.1f} secunde\")\n",
        "\n",
        "# Verifică predicțiile\n",
        "if os.path.exists(output_dir):\n",
        "    files = os.listdir(output_dir)\n",
        "    print(f\"📁 S-au generat {len(files)} fișiere:\")\n",
        "    for f in sorted(files):\n",
        "        size = os.path.getsize(f\"{output_dir}/{f}\") / 1024\n",
        "        print(f\"  - {f} ({size:.1f} KB)\")\n",
        "\n",
        "    if len(files) > 0:\n",
        "        print(\"\\n✅ Estimare corectă!\")\n",
        "    else:\n",
        "        print(\"\\n❌ Nu au fost generate fișiere\")\n",
        "else:\n",
        "    print(\"❌ Directorul pentru output nu a fost găsit!\")\n"
      ]
    },
    {
      "cell_type": "code",
      "execution_count": null,
      "metadata": {
        "id": "P2gjQCGXMABE"
      },
      "outputs": [],
      "source": [
        "import matplotlib.pyplot as plt\n",
        "from PIL import Image\n",
        "import numpy as np\n",
        "import os\n",
        "\n",
        "output_dir = \"/content/depth_predictions\"\n",
        "input_dir = \"example_images\"\n",
        "\n",
        "print(\"Vizualizare rezultate\")\n",
        "\n",
        "if os.path.exists(output_dir) and os.listdir(output_dir):\n",
        "    # Obține fișierele\n",
        "    png_files = sorted([f for f in os.listdir(output_dir) if f.endswith('.png')])\n",
        "\n",
        "    for i, png_file in enumerate(png_files):\n",
        "        base_name = png_file.replace('_depth.png', '').replace('_pred.png', '')\n",
        "\n",
        "        # Verifică dacă există imaginile\n",
        "        input_file = None\n",
        "        for ext in ['.png', '.jpg', '.jpeg']:\n",
        "            candidate = os.path.join(input_dir, base_name + ext)\n",
        "            if os.path.exists(candidate):\n",
        "                input_file = candidate\n",
        "                break\n",
        "\n",
        "        # Dimensiuni figură\n",
        "        fig, axes = plt.subplots(1, 1, figsize=(12, 5))\n",
        "\n",
        "        # Imagini output\n",
        "        depth_img = Image.open(os.path.join(output_dir, png_file))\n",
        "        axes.imshow(depth_img)\n",
        "        axes.set_title(f'Depth: {png_file}')\n",
        "        axes.axis('off')\n",
        "\n",
        "        plt.tight_layout()\n",
        "        plt.show()\n",
        "\n",
        "else:\n",
        "    print(\"❌ Nu există rezultate\")\n",
        "    print(f\"📁 Verifică directorul {output_dir}\")"
      ]
    },
    {
      "cell_type": "code",
      "execution_count": null,
      "metadata": {
        "id": "6-pfTqTgEOar"
      },
      "outputs": [],
      "source": [
        "!python /content/Licenta---Estimarea-adancimii-din-imagini/predict.py --image_path /content/Licenta---Estimarea-adancimii-din-imagini/example_images --exp_opts /content/Licenta---Estimarea-adancimii-din-imagini/options/TiO-Depth/eval/tio_depth-swint-m_384_kitti.yaml --model_path /content/train_log/2025-06-16_12h32m02s_TiO-Depth-MFM0-ACVDAV21/model/best_model-refdepth.pth --out_dir /content/depth_predictions"
      ]
    }
  ],
  "metadata": {
    "accelerator": "GPU",
    "colab": {
      "gpuType": "T4",
      "provenance": []
    },
    "kernelspec": {
      "display_name": "Python 3",
      "name": "python3"
    },
    "language_info": {
      "name": "python"
    }
  },
  "nbformat": 4,
  "nbformat_minor": 0
}